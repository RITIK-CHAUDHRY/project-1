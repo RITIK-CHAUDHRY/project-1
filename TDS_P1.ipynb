{
 "cells": [
  {
   "cell_type": "code",
   "execution_count": 23,
   "metadata": {
    "id": "lxlEWPwNi8a_"
   },
   "outputs": [],
   "source": [
    "import pandas as pd\n",
    "import numpy as np\n",
    "import matplotlib.pyplot as plt\n"
   ]
  },
  {
   "cell_type": "markdown",
   "metadata": {
    "id": "aXaHOdR16wKM"
   },
   "source": [
    "Q1"
   ]
  },
  {
   "cell_type": "code",
   "execution_count": 24,
   "metadata": {
    "colab": {
     "base_uri": "https://localhost:8080/",
     "height": 310
    },
    "id": "_P5gtAQT6vmf",
    "outputId": "5d408d0e-e892-4b23-896b-e92f2f0f6fa2"
   },
   "outputs": [
    {
     "data": {
      "text/html": [
       "<div>\n",
       "<style scoped>\n",
       "    .dataframe tbody tr th:only-of-type {\n",
       "        vertical-align: middle;\n",
       "    }\n",
       "\n",
       "    .dataframe tbody tr th {\n",
       "        vertical-align: top;\n",
       "    }\n",
       "\n",
       "    .dataframe thead th {\n",
       "        text-align: right;\n",
       "    }\n",
       "</style>\n",
       "<table border=\"1\" class=\"dataframe\">\n",
       "  <thead>\n",
       "    <tr style=\"text-align: right;\">\n",
       "      <th></th>\n",
       "      <th>login</th>\n",
       "      <th>name</th>\n",
       "      <th>company</th>\n",
       "      <th>location</th>\n",
       "      <th>email</th>\n",
       "      <th>hireable</th>\n",
       "      <th>bio</th>\n",
       "      <th>public_repos</th>\n",
       "      <th>followers</th>\n",
       "      <th>following</th>\n",
       "      <th>created_at</th>\n",
       "    </tr>\n",
       "  </thead>\n",
       "  <tbody>\n",
       "    <tr>\n",
       "      <th>0</th>\n",
       "      <td>midudev</td>\n",
       "      <td>Miguel Ángel Durán</td>\n",
       "      <td>NaN</td>\n",
       "      <td>Barcelona</td>\n",
       "      <td>miduga@gmail.com</td>\n",
       "      <td>NaN</td>\n",
       "      <td>Te enseño Programación y Desarrollo Web. Cread...</td>\n",
       "      <td>194</td>\n",
       "      <td>28290</td>\n",
       "      <td>2</td>\n",
       "      <td>2012-03-21T18:31:36Z</td>\n",
       "    </tr>\n",
       "    <tr>\n",
       "      <th>1</th>\n",
       "      <td>ai</td>\n",
       "      <td>Andrey Sitnik</td>\n",
       "      <td>EVILMARTIANS</td>\n",
       "      <td>Barcelona, Spain</td>\n",
       "      <td>andrey@sitnik.ru</td>\n",
       "      <td>NaN</td>\n",
       "      <td>The creator of Autoprefixer, @postcss, @browse...</td>\n",
       "      <td>85</td>\n",
       "      <td>9156</td>\n",
       "      <td>139</td>\n",
       "      <td>2008-08-02T16:34:20Z</td>\n",
       "    </tr>\n",
       "    <tr>\n",
       "      <th>2</th>\n",
       "      <td>raysan5</td>\n",
       "      <td>Ray</td>\n",
       "      <td>RAYLIBTECH</td>\n",
       "      <td>Barcelona</td>\n",
       "      <td>raysan5@gmail.com</td>\n",
       "      <td>True</td>\n",
       "      <td>I make tools and technology for videogames dev...</td>\n",
       "      <td>26</td>\n",
       "      <td>3571</td>\n",
       "      <td>272</td>\n",
       "      <td>2013-10-24T15:41:54Z</td>\n",
       "    </tr>\n",
       "    <tr>\n",
       "      <th>3</th>\n",
       "      <td>vfarcic</td>\n",
       "      <td>Viktor Farcic</td>\n",
       "      <td>UPBOUND</td>\n",
       "      <td>Barcelona, Spain</td>\n",
       "      <td>viktor@farcic.com</td>\n",
       "      <td>NaN</td>\n",
       "      <td>Developer Advocate @Upbound</td>\n",
       "      <td>451</td>\n",
       "      <td>2975</td>\n",
       "      <td>0</td>\n",
       "      <td>2013-10-18T07:28:17Z</td>\n",
       "    </tr>\n",
       "    <tr>\n",
       "      <th>4</th>\n",
       "      <td>spite</td>\n",
       "      <td>Jaume Sanchez</td>\n",
       "      <td>GOOGLE-DEEPMIND</td>\n",
       "      <td>London · Barcelona</td>\n",
       "      <td>hello@clicktorelease.com</td>\n",
       "      <td>NaN</td>\n",
       "      <td>Web Dev, pixel burner - WebGL · WebXR</td>\n",
       "      <td>135</td>\n",
       "      <td>2547</td>\n",
       "      <td>0</td>\n",
       "      <td>2011-04-15T16:00:06Z</td>\n",
       "    </tr>\n",
       "  </tbody>\n",
       "</table>\n",
       "</div>"
      ],
      "text/plain": [
       "     login                name          company            location  \\\n",
       "0  midudev  Miguel Ángel Durán              NaN           Barcelona   \n",
       "1       ai       Andrey Sitnik     EVILMARTIANS    Barcelona, Spain   \n",
       "2  raysan5                 Ray       RAYLIBTECH           Barcelona   \n",
       "3  vfarcic       Viktor Farcic          UPBOUND    Barcelona, Spain   \n",
       "4    spite       Jaume Sanchez  GOOGLE-DEEPMIND  London · Barcelona   \n",
       "\n",
       "                      email hireable  \\\n",
       "0          miduga@gmail.com      NaN   \n",
       "1          andrey@sitnik.ru      NaN   \n",
       "2         raysan5@gmail.com     True   \n",
       "3         viktor@farcic.com      NaN   \n",
       "4  hello@clicktorelease.com      NaN   \n",
       "\n",
       "                                                 bio  public_repos  followers  \\\n",
       "0  Te enseño Programación y Desarrollo Web. Cread...           194      28290   \n",
       "1  The creator of Autoprefixer, @postcss, @browse...            85       9156   \n",
       "2  I make tools and technology for videogames dev...            26       3571   \n",
       "3                        Developer Advocate @Upbound           451       2975   \n",
       "4              Web Dev, pixel burner - WebGL · WebXR           135       2547   \n",
       "\n",
       "   following            created_at  \n",
       "0          2  2012-03-21T18:31:36Z  \n",
       "1        139  2008-08-02T16:34:20Z  \n",
       "2        272  2013-10-24T15:41:54Z  \n",
       "3          0  2013-10-18T07:28:17Z  \n",
       "4          0  2011-04-15T16:00:06Z  "
      ]
     },
     "execution_count": 24,
     "metadata": {},
     "output_type": "execute_result"
    }
   ],
   "source": [
    "users = pd.read_csv('users.csv')\n",
    "users.head()"
   ]
  },
  {
   "cell_type": "code",
   "execution_count": 25,
   "metadata": {
    "colab": {
     "base_uri": "https://localhost:8080/"
    },
    "id": "mo4j0CK_7fkx",
    "outputId": "71f956e2-4331-437b-bde1-ebe3e521a374"
   },
   "outputs": [
    {
     "name": "stderr",
     "output_type": "stream",
     "text": [
      "C:\\Users\\ritik\\AppData\\Local\\Temp\\ipykernel_25820\\1926759118.py:1: FutureWarning: Downcasting object dtype arrays on .fillna, .ffill, .bfill is deprecated and will change in a future version. Call result.infer_objects(copy=False) instead. To opt-in to the future behavior, set `pd.set_option('future.no_silent_downcasting', True)`\n",
      "  users['hireable'] = users['hireable'].fillna(False).astype(bool)\n"
     ]
    }
   ],
   "source": [
    "users['hireable'] = users['hireable'].fillna(False).astype(bool)"
   ]
  },
  {
   "cell_type": "code",
   "execution_count": 26,
   "metadata": {
    "colab": {
     "base_uri": "https://localhost:8080/"
    },
    "id": "HWWe0Fht7iUd",
    "outputId": "d4bfc882-e3af-4edc-e805-42b901013869"
   },
   "outputs": [
    {
     "name": "stdout",
     "output_type": "stream",
     "text": [
      "midudev,ai,raysan5,vfarcic,spite\n"
     ]
    }
   ],
   "source": [
    "top5 = users.sort_values(by='followers', ascending=False).head()\n",
    "print(','.join(top5['login'].tolist()))"
   ]
  },
  {
   "cell_type": "markdown",
   "metadata": {
    "id": "kwOKuWEs-Hg7"
   },
   "source": [
    "Q2"
   ]
  },
  {
   "cell_type": "code",
   "execution_count": 27,
   "metadata": {
    "id": "OmBdm8IA-I0C"
   },
   "outputs": [],
   "source": [
    "users['created_at'] = pd.to_datetime(users['created_at'])"
   ]
  },
  {
   "cell_type": "code",
   "execution_count": 28,
   "metadata": {
    "colab": {
     "base_uri": "https://localhost:8080/"
    },
    "id": "aKiWGwAt-LNn",
    "outputId": "632fc40e-b8cc-42c7-c978-4c1461b18d26"
   },
   "outputs": [
    {
     "name": "stdout",
     "output_type": "stream",
     "text": [
      "oleganza,gravityblast,fesplugas,fxn,pauek\n"
     ]
    }
   ],
   "source": [
    "top_earliest = users.sort_values(by='created_at').head()\n",
    "print(','.join(top_earliest['login'].tolist()))"
   ]
  },
  {
   "cell_type": "markdown",
   "metadata": {
    "id": "ajvklFMj-Owr"
   },
   "source": [
    "Q3"
   ]
  },
  {
   "cell_type": "code",
   "execution_count": 29,
   "metadata": {
    "colab": {
     "base_uri": "https://localhost:8080/",
     "height": 206
    },
    "id": "sJIyDxv9-P8O",
    "outputId": "e7d7c8da-e295-4427-a129-46c41052e70f"
   },
   "outputs": [
    {
     "data": {
      "text/html": [
       "<div>\n",
       "<style scoped>\n",
       "    .dataframe tbody tr th:only-of-type {\n",
       "        vertical-align: middle;\n",
       "    }\n",
       "\n",
       "    .dataframe tbody tr th {\n",
       "        vertical-align: top;\n",
       "    }\n",
       "\n",
       "    .dataframe thead th {\n",
       "        text-align: right;\n",
       "    }\n",
       "</style>\n",
       "<table border=\"1\" class=\"dataframe\">\n",
       "  <thead>\n",
       "    <tr style=\"text-align: right;\">\n",
       "      <th></th>\n",
       "      <th>login</th>\n",
       "      <th>full_name</th>\n",
       "      <th>created_at</th>\n",
       "      <th>stargazers_count</th>\n",
       "      <th>watchers_count</th>\n",
       "      <th>language</th>\n",
       "      <th>has_projects</th>\n",
       "      <th>has_wiki</th>\n",
       "      <th>license_name</th>\n",
       "    </tr>\n",
       "  </thead>\n",
       "  <tbody>\n",
       "    <tr>\n",
       "      <th>0</th>\n",
       "      <td>midudev</td>\n",
       "      <td>midudev/accordion-menu</td>\n",
       "      <td>2018-10-08T13:41:57Z</td>\n",
       "      <td>2</td>\n",
       "      <td>2</td>\n",
       "      <td>JavaScript</td>\n",
       "      <td>True</td>\n",
       "      <td>True</td>\n",
       "      <td>NaN</td>\n",
       "    </tr>\n",
       "    <tr>\n",
       "      <th>1</th>\n",
       "      <td>midudev</td>\n",
       "      <td>midudev/actas-2024</td>\n",
       "      <td>2024-08-01T15:04:40Z</td>\n",
       "      <td>42</td>\n",
       "      <td>42</td>\n",
       "      <td>NaN</td>\n",
       "      <td>True</td>\n",
       "      <td>True</td>\n",
       "      <td>NaN</td>\n",
       "    </tr>\n",
       "    <tr>\n",
       "      <th>2</th>\n",
       "      <td>midudev</td>\n",
       "      <td>midudev/adventjs-issues</td>\n",
       "      <td>2021-12-01T15:27:21Z</td>\n",
       "      <td>33</td>\n",
       "      <td>33</td>\n",
       "      <td>NaN</td>\n",
       "      <td>True</td>\n",
       "      <td>True</td>\n",
       "      <td>NaN</td>\n",
       "    </tr>\n",
       "    <tr>\n",
       "      <th>3</th>\n",
       "      <td>midudev</td>\n",
       "      <td>midudev/algolia-pwa-ecommerce</td>\n",
       "      <td>2022-01-03T20:17:22Z</td>\n",
       "      <td>24</td>\n",
       "      <td>24</td>\n",
       "      <td>TypeScript</td>\n",
       "      <td>True</td>\n",
       "      <td>True</td>\n",
       "      <td>mit</td>\n",
       "    </tr>\n",
       "    <tr>\n",
       "      <th>4</th>\n",
       "      <td>midudev</td>\n",
       "      <td>midudev/ant-design</td>\n",
       "      <td>2018-09-13T15:08:22Z</td>\n",
       "      <td>2</td>\n",
       "      <td>2</td>\n",
       "      <td>TypeScript</td>\n",
       "      <td>True</td>\n",
       "      <td>True</td>\n",
       "      <td>mit</td>\n",
       "    </tr>\n",
       "  </tbody>\n",
       "</table>\n",
       "</div>"
      ],
      "text/plain": [
       "     login                      full_name            created_at  \\\n",
       "0  midudev         midudev/accordion-menu  2018-10-08T13:41:57Z   \n",
       "1  midudev             midudev/actas-2024  2024-08-01T15:04:40Z   \n",
       "2  midudev        midudev/adventjs-issues  2021-12-01T15:27:21Z   \n",
       "3  midudev  midudev/algolia-pwa-ecommerce  2022-01-03T20:17:22Z   \n",
       "4  midudev             midudev/ant-design  2018-09-13T15:08:22Z   \n",
       "\n",
       "   stargazers_count  watchers_count    language  has_projects  has_wiki  \\\n",
       "0                 2               2  JavaScript          True      True   \n",
       "1                42              42         NaN          True      True   \n",
       "2                33              33         NaN          True      True   \n",
       "3                24              24  TypeScript          True      True   \n",
       "4                 2               2  TypeScript          True      True   \n",
       "\n",
       "  license_name  \n",
       "0          NaN  \n",
       "1          NaN  \n",
       "2          NaN  \n",
       "3          mit  \n",
       "4          mit  "
      ]
     },
     "execution_count": 29,
     "metadata": {},
     "output_type": "execute_result"
    }
   ],
   "source": [
    "repos = pd.read_csv('repositories.csv')\n",
    "repos.head()"
   ]
  },
  {
   "cell_type": "code",
   "execution_count": 30,
   "metadata": {
    "colab": {
     "base_uri": "https://localhost:8080/",
     "height": 209
    },
    "id": "mRNWq2_b-aJh",
    "outputId": "41afc26c-9a5b-4e65-eb59-9f9c90ce52a1"
   },
   "outputs": [
    {
     "data": {
      "text/plain": [
       "license_name\n",
       "mit           7492\n",
       "apache-2.0    2310\n",
       "other         1897\n",
       "Name: count, dtype: int64"
      ]
     },
     "execution_count": 30,
     "metadata": {},
     "output_type": "execute_result"
    }
   ],
   "source": [
    "repos['license_name'].value_counts().head(3)"
   ]
  },
  {
   "cell_type": "markdown",
   "metadata": {
    "id": "VIv0ejZC-wJU"
   },
   "source": [
    "Q4"
   ]
  },
  {
   "cell_type": "code",
   "execution_count": 31,
   "metadata": {
    "colab": {
     "base_uri": "https://localhost:8080/",
     "height": 146
    },
    "id": "3ivR-LJ--yFA",
    "outputId": "da2ea23f-a32c-4eb1-854e-60d60e90f65a"
   },
   "outputs": [
    {
     "data": {
      "text/plain": [
       "company\n",
       "FREELANCE    4\n",
       "Name: count, dtype: int64"
      ]
     },
     "execution_count": 31,
     "metadata": {},
     "output_type": "execute_result"
    }
   ],
   "source": [
    "users['company'].value_counts().head(1)"
   ]
  },
  {
   "cell_type": "markdown",
   "metadata": {
    "id": "a4wOrKTj-6cu"
   },
   "source": [
    "Q5"
   ]
  },
  {
   "cell_type": "code",
   "execution_count": 32,
   "metadata": {
    "colab": {
     "base_uri": "https://localhost:8080/",
     "height": 146
    },
    "id": "jhJBs6-M-6yF",
    "outputId": "83c4027f-c8f5-4a16-806c-7ca77d3fac39"
   },
   "outputs": [
    {
     "data": {
      "text/plain": [
       "language\n",
       "JavaScript    6089\n",
       "Name: count, dtype: int64"
      ]
     },
     "execution_count": 32,
     "metadata": {},
     "output_type": "execute_result"
    }
   ],
   "source": [
    "repos['language'].value_counts().head(1)"
   ]
  },
  {
   "cell_type": "markdown",
   "metadata": {
    "id": "1mEE8vhW_Hy_"
   },
   "source": [
    "Q6"
   ]
  },
  {
   "cell_type": "code",
   "execution_count": 33,
   "metadata": {
    "colab": {
     "base_uri": "https://localhost:8080/",
     "height": 449
    },
    "id": "XvazgXaD_HS3",
    "outputId": "6c20fb7f-d3e4-4d0c-c2ad-a08223ec0f23"
   },
   "outputs": [
    {
     "data": {
      "text/html": [
       "<div>\n",
       "<style scoped>\n",
       "    .dataframe tbody tr th:only-of-type {\n",
       "        vertical-align: middle;\n",
       "    }\n",
       "\n",
       "    .dataframe tbody tr th {\n",
       "        vertical-align: top;\n",
       "    }\n",
       "\n",
       "    .dataframe thead th {\n",
       "        text-align: right;\n",
       "    }\n",
       "</style>\n",
       "<table border=\"1\" class=\"dataframe\">\n",
       "  <thead>\n",
       "    <tr style=\"text-align: right;\">\n",
       "      <th></th>\n",
       "      <th>login</th>\n",
       "      <th>name</th>\n",
       "      <th>company</th>\n",
       "      <th>location</th>\n",
       "      <th>email</th>\n",
       "      <th>hireable</th>\n",
       "      <th>bio</th>\n",
       "      <th>public_repos</th>\n",
       "      <th>followers</th>\n",
       "      <th>following</th>\n",
       "      <th>created_at</th>\n",
       "    </tr>\n",
       "  </thead>\n",
       "  <tbody>\n",
       "    <tr>\n",
       "      <th>18</th>\n",
       "      <td>alexfarrerodev</td>\n",
       "      <td>Alejandro Farrero Fueris</td>\n",
       "      <td>BARCELONA SUPER COMPUTING CENTER (BSC)</td>\n",
       "      <td>Plaça d'Eusebi Güell, 1-3 Barcelona</td>\n",
       "      <td>NaN</td>\n",
       "      <td>False</td>\n",
       "      <td>Full Stack Developer | Python | Java | JavaScr...</td>\n",
       "      <td>5</td>\n",
       "      <td>1076</td>\n",
       "      <td>3048</td>\n",
       "      <td>2023-11-10 16:33:50+00:00</td>\n",
       "    </tr>\n",
       "    <tr>\n",
       "      <th>50</th>\n",
       "      <td>gemartin99</td>\n",
       "      <td>Gerard Martinez</td>\n",
       "      <td>42BARCELONA</td>\n",
       "      <td>Barcelona</td>\n",
       "      <td>NaN</td>\n",
       "      <td>False</td>\n",
       "      <td>Student 42 Barcelona 🖥📚</td>\n",
       "      <td>35</td>\n",
       "      <td>500</td>\n",
       "      <td>58</td>\n",
       "      <td>2020-06-14 16:12:12+00:00</td>\n",
       "    </tr>\n",
       "    <tr>\n",
       "      <th>73</th>\n",
       "      <td>yurimutti</td>\n",
       "      <td>Yuri Mutti</td>\n",
       "      <td>NaN</td>\n",
       "      <td>Barcelona, Catalonia, Spain</td>\n",
       "      <td>muttiyuri@gmail.com</td>\n",
       "      <td>False</td>\n",
       "      <td>Co-Founder of @detrash. Software Engineer, Spe...</td>\n",
       "      <td>43</td>\n",
       "      <td>374</td>\n",
       "      <td>97</td>\n",
       "      <td>2020-06-07 01:03:57+00:00</td>\n",
       "    </tr>\n",
       "    <tr>\n",
       "      <th>77</th>\n",
       "      <td>JavascriptDeNoobAPro</td>\n",
       "      <td>Javascript DeNoobAPro</td>\n",
       "      <td>CUTTEVENTS ONLINE</td>\n",
       "      <td>Barcelona, Madrid</td>\n",
       "      <td>NaN</td>\n",
       "      <td>True</td>\n",
       "      <td>NaN</td>\n",
       "      <td>16</td>\n",
       "      <td>357</td>\n",
       "      <td>3</td>\n",
       "      <td>2020-10-06 09:26:27+00:00</td>\n",
       "    </tr>\n",
       "    <tr>\n",
       "      <th>104</th>\n",
       "      <td>Hamadabcn</td>\n",
       "      <td>Hamada</td>\n",
       "      <td>NaN</td>\n",
       "      <td>Barcelona</td>\n",
       "      <td>NaN</td>\n",
       "      <td>True</td>\n",
       "      <td>\\r\\nMy journey as a Python developer has evolv...</td>\n",
       "      <td>83</td>\n",
       "      <td>261</td>\n",
       "      <td>374</td>\n",
       "      <td>2023-04-19 04:16:28+00:00</td>\n",
       "    </tr>\n",
       "  </tbody>\n",
       "</table>\n",
       "</div>"
      ],
      "text/plain": [
       "                    login                       name  \\\n",
       "18         alexfarrerodev  Alejandro Farrero Fueris    \n",
       "50             gemartin99            Gerard Martinez   \n",
       "73              yurimutti                 Yuri Mutti   \n",
       "77   JavascriptDeNoobAPro      Javascript DeNoobAPro   \n",
       "104             Hamadabcn                     Hamada   \n",
       "\n",
       "                                    company  \\\n",
       "18   BARCELONA SUPER COMPUTING CENTER (BSC)   \n",
       "50                              42BARCELONA   \n",
       "73                                      NaN   \n",
       "77                        CUTTEVENTS ONLINE   \n",
       "104                                     NaN   \n",
       "\n",
       "                                location                email  hireable  \\\n",
       "18   Plaça d'Eusebi Güell, 1-3 Barcelona                  NaN     False   \n",
       "50                             Barcelona                  NaN     False   \n",
       "73           Barcelona, Catalonia, Spain  muttiyuri@gmail.com     False   \n",
       "77                     Barcelona, Madrid                  NaN      True   \n",
       "104                            Barcelona                  NaN      True   \n",
       "\n",
       "                                                   bio  public_repos  \\\n",
       "18   Full Stack Developer | Python | Java | JavaScr...             5   \n",
       "50                             Student 42 Barcelona 🖥📚            35   \n",
       "73   Co-Founder of @detrash. Software Engineer, Spe...            43   \n",
       "77                                                 NaN            16   \n",
       "104  \\r\\nMy journey as a Python developer has evolv...            83   \n",
       "\n",
       "     followers  following                created_at  \n",
       "18        1076       3048 2023-11-10 16:33:50+00:00  \n",
       "50         500         58 2020-06-14 16:12:12+00:00  \n",
       "73         374         97 2020-06-07 01:03:57+00:00  \n",
       "77         357          3 2020-10-06 09:26:27+00:00  \n",
       "104        261        374 2023-04-19 04:16:28+00:00  "
      ]
     },
     "execution_count": 33,
     "metadata": {},
     "output_type": "execute_result"
    }
   ],
   "source": [
    "users_after_2020 = users[users['created_at'] > '2020-01-01']\n",
    "users_after_2020.head()\n"
   ]
  },
  {
   "cell_type": "code",
   "execution_count": 34,
   "metadata": {
    "colab": {
     "base_uri": "https://localhost:8080/",
     "height": 272
    },
    "id": "ugXlznCi_MvU",
    "outputId": "17a459fe-5630-4138-a47e-7607d79c39e4"
   },
   "outputs": [
    {
     "data": {
      "text/plain": [
       "language\n",
       "JavaScript    120\n",
       "Python         92\n",
       "TypeScript     48\n",
       "HTML           44\n",
       "CSS            29\n",
       "Name: count, dtype: int64"
      ]
     },
     "execution_count": 34,
     "metadata": {},
     "output_type": "execute_result"
    }
   ],
   "source": [
    "repos_2020 = repos[repos['login'].isin(users_after_2020['login'].tolist())]\n",
    "repos_2020['language'].value_counts().head()\n"
   ]
  },
  {
   "cell_type": "markdown",
   "metadata": {
    "id": "At2MyIgZ_0Iy"
   },
   "source": [
    "Q7\n"
   ]
  },
  {
   "cell_type": "code",
   "execution_count": 35,
   "metadata": {
    "colab": {
     "base_uri": "https://localhost:8080/"
    },
    "id": "BWrLId-m_3fn",
    "outputId": "5be05bf2-4639-48d8-f4d2-585448bfe86e"
   },
   "outputs": [
    {
     "name": "stdout",
     "output_type": "stream",
     "text": [
      "Vim Script 3839.125\n"
     ]
    }
   ],
   "source": [
    "avg_stars = repos.groupby('language')['stargazers_count'].mean()\n",
    "top_lang = avg_stars.idxmax()\n",
    "top_stars = avg_stars.max()\n",
    "print(top_lang, top_stars)"
   ]
  },
  {
   "cell_type": "markdown",
   "metadata": {
    "id": "5u4pX9b3_3GB"
   },
   "source": [
    "Q8"
   ]
  },
  {
   "cell_type": "code",
   "execution_count": 36,
   "metadata": {
    "colab": {
     "base_uri": "https://localhost:8080/"
    },
    "id": "iKd1CEam_7-N",
    "outputId": "e63c4463-61af-4b37-e267-fe15ff2a492c"
   },
   "outputs": [
    {
     "name": "stdout",
     "output_type": "stream",
     "text": [
      "midudev,vfarcic,spite,amix,cfenollosa\n"
     ]
    }
   ],
   "source": [
    "users['leader_strength'] = users['followers'] / (1 + users['following'])\n",
    "top5_lead = users.sort_values(by='leader_strength', ascending=False).head()\n",
    "print(','.join(top5_lead['login'].tolist()))"
   ]
  },
  {
   "cell_type": "markdown",
   "metadata": {
    "id": "thCm6CSS_7ox"
   },
   "source": [
    "Q9"
   ]
  },
  {
   "cell_type": "code",
   "execution_count": 37,
   "metadata": {
    "colab": {
     "base_uri": "https://localhost:8080/"
    },
    "id": "vCXih--oABJa",
    "outputId": "34ea8ac6-265d-4b71-90e9-953133267051"
   },
   "outputs": [
    {
     "data": {
      "text/plain": [
       "np.float64(0.07122959453946916)"
      ]
     },
     "execution_count": 37,
     "metadata": {},
     "output_type": "execute_result"
    }
   ],
   "source": [
    "correlation = users['followers'].corr(users['public_repos'])\n",
    "correlation"
   ]
  },
  {
   "cell_type": "markdown",
   "metadata": {
    "id": "kXNFAhf8ADLw"
   },
   "source": [
    "Q10"
   ]
  },
  {
   "cell_type": "code",
   "execution_count": 38,
   "metadata": {
    "colab": {
     "base_uri": "https://localhost:8080/"
    },
    "id": "6p0LsoYmAEIe",
    "outputId": "4483a88f-38ab-44e5-8431-2cda4e73834c"
   },
   "outputs": [
    {
     "name": "stdout",
     "output_type": "stream",
     "text": [
      "DataFrame Overview:\n",
      "     login                name          company            location  \\\n",
      "0  midudev  Miguel Ángel Durán              NaN           Barcelona   \n",
      "1       ai       Andrey Sitnik     EVILMARTIANS    Barcelona, Spain   \n",
      "2  raysan5                 Ray       RAYLIBTECH           Barcelona   \n",
      "3  vfarcic       Viktor Farcic          UPBOUND    Barcelona, Spain   \n",
      "4    spite       Jaume Sanchez  GOOGLE-DEEPMIND  London · Barcelona   \n",
      "\n",
      "                      email hireable  \\\n",
      "0          miduga@gmail.com      NaN   \n",
      "1          andrey@sitnik.ru      NaN   \n",
      "2         raysan5@gmail.com     True   \n",
      "3         viktor@farcic.com      NaN   \n",
      "4  hello@clicktorelease.com      NaN   \n",
      "\n",
      "                                                 bio  public_repos  followers  \\\n",
      "0  Te enseño Programación y Desarrollo Web. Cread...           194      28290   \n",
      "1  The creator of Autoprefixer, @postcss, @browse...            85       9156   \n",
      "2  I make tools and technology for videogames dev...            26       3571   \n",
      "3                        Developer Advocate @Upbound           451       2975   \n",
      "4              Web Dev, pixel burner - WebGL · WebXR           135       2547   \n",
      "\n",
      "   following            created_at  \n",
      "0          2  2012-03-21T18:31:36Z  \n",
      "1        139  2008-08-02T16:34:20Z  \n",
      "2        272  2013-10-24T15:41:54Z  \n",
      "3          0  2013-10-18T07:28:17Z  \n",
      "4          0  2011-04-15T16:00:06Z  \n",
      "\n",
      "DataFrame Info:\n",
      "<class 'pandas.core.frame.DataFrame'>\n",
      "RangeIndex: 337 entries, 0 to 336\n",
      "Data columns (total 11 columns):\n",
      " #   Column        Non-Null Count  Dtype \n",
      "---  ------        --------------  ----- \n",
      " 0   login         337 non-null    object\n",
      " 1   name          330 non-null    object\n",
      " 2   company       208 non-null    object\n",
      " 3   location      337 non-null    object\n",
      " 4   email         167 non-null    object\n",
      " 5   hireable      120 non-null    object\n",
      " 6   bio           245 non-null    object\n",
      " 7   public_repos  337 non-null    int64 \n",
      " 8   followers     337 non-null    int64 \n",
      " 9   following     337 non-null    int64 \n",
      " 10  created_at    337 non-null    object\n",
      "dtypes: int64(3), object(8)\n",
      "memory usage: 29.1+ KB\n",
      "None\n",
      "\n",
      "Regression slope of followers on bio word count: 13.720\n"
     ]
    }
   ],
   "source": [
    "import pandas as pd\n",
    "import statsmodels.api as sm\n",
    "\n",
    "# Load the CSV file\n",
    "csv_file = 'users.csv'  # Ensure this path is correct\n",
    "\n",
    "# Load the CSV into a DataFrame\n",
    "df = pd.read_csv(csv_file)\n",
    "\n",
    "# Check the first few rows and the data types of the DataFrame\n",
    "print(\"DataFrame Overview:\")\n",
    "print(df.head())\n",
    "print(\"\\nDataFrame Info:\")\n",
    "print(df.info())\n",
    "\n",
    "# Filter out users without bios\n",
    "df = df[df['bio'].notnull()]\n",
    "\n",
    "# Calculate the length of each bio in words\n",
    "df['bio_word_count'] = df['bio'].str.split().str.len()\n",
    "\n",
    "# Prepare the independent variable (X) and dependent variable (y)\n",
    "X = df['bio_word_count']\n",
    "y = df['followers']  # Adjust the column name as per your dataset\n",
    "\n",
    "# Add a constant to the independent variable (for the intercept)\n",
    "X = sm.add_constant(X)\n",
    "\n",
    "# Fit the regression model\n",
    "model = sm.OLS(y, X).fit()\n",
    "\n",
    "# Get the slope (coefficient of the bio_word_count)\n",
    "slope = model.params['bio_word_count']\n",
    "\n",
    "# Print the regression slope rounded to three decimal places\n",
    "print(f\"\\nRegression slope of followers on bio word count: {slope:.3f}\")"
   ]
  },
  {
   "cell_type": "markdown",
   "metadata": {
    "id": "bapEBFSyAZWw"
   },
   "source": [
    "Q11"
   ]
  },
  {
   "cell_type": "code",
   "execution_count": 39,
   "metadata": {
    "colab": {
     "base_uri": "https://localhost:8080/"
    },
    "id": "qDJ2v5xuAaab",
    "outputId": "34e09c4c-3308-4b9a-a3f3-c80c9c477769"
   },
   "outputs": [
    {
     "name": "stdout",
     "output_type": "stream",
     "text": [
      "0.317\n"
     ]
    }
   ],
   "source": [
    "if repos['has_projects'].dtype == 'object':\n",
    "    repos['has_projects'] = repos['has_projects'].map({'true': True, 'false': False})\n",
    "if repos['has_wiki'].dtype == 'object':\n",
    "    repos['has_wiki'] = repos['has_wiki'].map({'true': True, 'false': False})\n",
    "\n",
    "correlation = repos['has_projects'].corr(repos['has_wiki'])\n",
    "\n",
    "print(round(correlation, 3))"
   ]
  },
  {
   "cell_type": "markdown",
   "metadata": {
    "id": "Uucua6AXAgZu"
   },
   "source": [
    "Q12\n"
   ]
  },
  {
   "cell_type": "code",
   "execution_count": 40,
   "metadata": {
    "colab": {
     "base_uri": "https://localhost:8080/"
    },
    "id": "DLF7tPnyAh5M",
    "outputId": "f6379d3e-52bb-48af-dcdf-dd227572b83c"
   },
   "outputs": [
    {
     "data": {
      "text/plain": [
       "np.float64(294.67611367127495)"
      ]
     },
     "execution_count": 40,
     "metadata": {},
     "output_type": "execute_result"
    }
   ],
   "source": [
    "hireable_avg_following = users[users['hireable'] == True]['following'].mean()\n",
    "non_hireable_avg_following = users[users['hireable'] == False]['following'].mean()\n",
    "difference = hireable_avg_following - non_hireable_avg_following\n",
    "difference"
   ]
  },
  {
   "cell_type": "markdown",
   "metadata": {
    "id": "iF1Dg7rXAq7B"
   },
   "source": [
    "Q13"
   ]
  },
  {
   "cell_type": "code",
   "execution_count": 41,
   "metadata": {
    "colab": {
     "base_uri": "https://localhost:8080/"
    },
    "id": "QJeY4OcwAofw",
    "outputId": "5d6777df-5a43-41da-c297-11b47e54ea94"
   },
   "outputs": [
    {
     "ename": "ModuleNotFoundError",
     "evalue": "No module named 'sklearn'",
     "output_type": "error",
     "traceback": [
      "\u001b[1;31m---------------------------------------------------------------------------\u001b[0m",
      "\u001b[1;31mModuleNotFoundError\u001b[0m                       Traceback (most recent call last)",
      "Cell \u001b[1;32mIn[41], line 1\u001b[0m\n\u001b[1;32m----> 1\u001b[0m \u001b[38;5;28;01mfrom\u001b[39;00m \u001b[38;5;21;01msklearn\u001b[39;00m\u001b[38;5;21;01m.\u001b[39;00m\u001b[38;5;21;01mlinear_model\u001b[39;00m \u001b[38;5;28;01mimport\u001b[39;00m LinearRegression\n\u001b[0;32m      2\u001b[0m users_with_bio \u001b[38;5;241m=\u001b[39m users[(users[\u001b[38;5;124m'\u001b[39m\u001b[38;5;124mbio\u001b[39m\u001b[38;5;124m'\u001b[39m]\u001b[38;5;241m.\u001b[39mnotna()) \u001b[38;5;241m&\u001b[39m (users[\u001b[38;5;124m'\u001b[39m\u001b[38;5;124mbio\u001b[39m\u001b[38;5;124m'\u001b[39m] \u001b[38;5;241m!=\u001b[39m \u001b[38;5;124m'\u001b[39m\u001b[38;5;124m'\u001b[39m)]\u001b[38;5;241m.\u001b[39mcopy()\n\u001b[0;32m      3\u001b[0m users_with_bio\u001b[38;5;241m.\u001b[39mloc[:, \u001b[38;5;124m'\u001b[39m\u001b[38;5;124mbio_len\u001b[39m\u001b[38;5;124m'\u001b[39m] \u001b[38;5;241m=\u001b[39m users_with_bio[\u001b[38;5;124m'\u001b[39m\u001b[38;5;124mbio\u001b[39m\u001b[38;5;124m'\u001b[39m]\u001b[38;5;241m.\u001b[39mstr\u001b[38;5;241m.\u001b[39mlen()\n",
      "\u001b[1;31mModuleNotFoundError\u001b[0m: No module named 'sklearn'"
     ]
    }
   ],
   "source": [
    "from sklearn.linear_model import LinearRegression\n",
    "users_with_bio = users[(users['bio'].notna()) & (users['bio'] != '')].copy()\n",
    "users_with_bio.loc[:, 'bio_len'] = users_with_bio['bio'].str.len()\n",
    "\n",
    "X = users_with_bio['bio_len'].values.reshape(-1,1)\n",
    "y = users_with_bio['followers']\n",
    "\n",
    "lr2 = LinearRegression()\n",
    "lr2.fit(X, y)\n",
    "lr2.coef_[0]"
   ]
  },
  {
   "cell_type": "markdown",
   "metadata": {
    "id": "5UlUjY79Avis"
   },
   "source": [
    "Q14"
   ]
  },
  {
   "cell_type": "code",
   "execution_count": null,
   "metadata": {
    "colab": {
     "base_uri": "https://localhost:8080/"
    },
    "id": "IY5LHZ2XAwrx",
    "outputId": "4ff044b1-f495-4a3b-edbd-7725948d98a4"
   },
   "outputs": [
    {
     "name": "stdout",
     "output_type": "stream",
     "text": [
      "nilportugues,kinow,ajsb85,vfarcic,wlsf82\n"
     ]
    }
   ],
   "source": [
    "import csv\n",
    "from collections import Counter\n",
    "from datetime import datetime\n",
    "\n",
    "weekend_repo_counts = Counter()\n",
    "\n",
    "with open('repositories.csv', 'r', encoding='utf-8') as file:\n",
    "    reader = csv.DictReader(file)\n",
    "\n",
    "    for row in reader:\n",
    "        created_at = row.get('created_at', '')\n",
    "        if created_at:\n",
    "            created_date = datetime.fromisoformat(created_at[:-1])\n",
    "\n",
    "            if created_date.weekday() in [5, 6]:\n",
    "                user_login = row['login']\n",
    "                weekend_repo_counts[user_login] += 1\n",
    "\n",
    "top_users = weekend_repo_counts.most_common(5)\n",
    "\n",
    "top_logins = [user[0] for user in top_users]\n",
    "\n",
    "print(','.join(top_logins))"
   ]
  },
  {
   "cell_type": "markdown",
   "metadata": {
    "id": "4V4MqBG3A9ng"
   },
   "source": [
    "Q15"
   ]
  },
  {
   "cell_type": "code",
   "execution_count": null,
   "metadata": {
    "colab": {
     "base_uri": "https://localhost:8080/"
    },
    "id": "-JaSRN2TA_nq",
    "outputId": "84e11e21-5cdb-4907-a0e9-22882bee2782"
   },
   "outputs": [
    {
     "data": {
      "text/plain": [
       "0.09750384024577574"
      ]
     },
     "execution_count": 21,
     "metadata": {},
     "output_type": "execute_result"
    }
   ],
   "source": [
    "fraction_hierable = users[users['hireable'] == True]['email'].notna().mean()\n",
    "fraction_non_hierable = users[users['hireable'] == False]['email'].notna().mean()\n",
    "diff = fraction_hierable - fraction_non_hierable\n",
    "diff"
   ]
  },
  {
   "cell_type": "markdown",
   "metadata": {
    "id": "UUoF1OyKA-sC"
   },
   "source": [
    "Q16"
   ]
  },
  {
   "cell_type": "code",
   "execution_count": null,
   "metadata": {
    "colab": {
     "base_uri": "https://localhost:8080/"
    },
    "id": "4S0xlKhXBDTf",
    "outputId": "c0171379-f80d-4399-a956-bb3015f0c67d"
   },
   "outputs": [
    {
     "name": "stdout",
     "output_type": "stream",
     "text": [
      "Martínez,Ortiz\n"
     ]
    }
   ],
   "source": [
    "new_users = users[users['name'].notna()].copy()\n",
    "new_users['surname'] = new_users['name'].str.split().str[-1].str.strip()\n",
    "surname_counts = new_users['surname'].value_counts()\n",
    "max_count = surname_counts.max()\n",
    "common_surnames = surname_counts[surname_counts == max_count].index.tolist()\n",
    "common_surnames.sort()\n",
    "print(','.join(common_surnames))"
   ]
  }
 ],
 "metadata": {
  "colab": {
   "provenance": []
  },
  "kernelspec": {
   "display_name": "Python 3",
   "name": "python3"
  },
  "language_info": {
   "codemirror_mode": {
    "name": "ipython",
    "version": 3
   },
   "file_extension": ".py",
   "mimetype": "text/x-python",
   "name": "python",
   "nbconvert_exporter": "python",
   "pygments_lexer": "ipython3",
   "version": "3.13.0"
  }
 },
 "nbformat": 4,
 "nbformat_minor": 0
}
